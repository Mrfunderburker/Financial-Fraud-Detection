{
 "cells": [
  {
   "cell_type": "markdown",
   "metadata": {},
   "source": [
    "# Report"
   ]
  },
  {
   "cell_type": "markdown",
   "metadata": {},
   "source": [
    "###  i. Which insights did you gain from your EDA? \n",
    "From my EDA, I was able to figure out exactly what I was looking for and what I needed to focus on when it came to modeling. I discovered some correlations between fraud and other parameters that could be helpful in detecting fraud. I found the EDA to be a great starting point, and although it was difficult to get started, once I understood what to look for and how to delve deeper into the data, the rest seemed much clearer."
   ]
  },
  {
   "cell_type": "markdown",
   "metadata": {},
   "source": [
    "### ii. How did you determine which columns to drop or keep? If your EDA informed this process, explain which insights you used to determine which columns were not needed. "
   ]
  },
  {
   "cell_type": "markdown",
   "metadata": {},
   "source": [
    "### iii. Which hyperparameter tuning strategy did you use? Grid-search or random-search? Why? \n"
   ]
  },
  {
   "cell_type": "markdown",
   "metadata": {},
   "source": [
    "### iv. How did your model's performance change after discovering optimal hyperparameters? \n"
   ]
  },
  {
   "cell_type": "markdown",
   "metadata": {},
   "source": [
    "### v. What was your final F1 Score? \n"
   ]
  }
 ],
 "metadata": {
  "language_info": {
   "name": "python"
  }
 },
 "nbformat": 4,
 "nbformat_minor": 2
}
